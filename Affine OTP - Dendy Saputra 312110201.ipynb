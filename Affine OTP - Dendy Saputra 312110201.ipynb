{
  "nbformat": 4,
  "nbformat_minor": 0,
  "metadata": {
    "colab": {
      "provenance": []
    },
    "kernelspec": {
      "name": "python3",
      "display_name": "Python 3"
    },
    "language_info": {
      "name": "python"
    }
  },
  "cells": [
    {
      "cell_type": "code",
      "execution_count": null,
      "metadata": {
        "colab": {
          "base_uri": "https://localhost:8080/"
        },
        "id": "0nGGo3lAQ03s",
        "outputId": "9dfcd9cd-ac47-4f50-f933-382580263b33"
      },
      "outputs": [
        {
          "output_type": "stream",
          "name": "stdout",
          "text": [
            "Masukkan Plainteks: RUSDI\n",
            "Masukkan Kunci: CRUSH\n",
            "Hasil Enkripsi: \u0011\u0007\u0006\u0017\u0001\n",
            "Hasil Dekripsi: RUSDI\n"
          ]
        }
      ],
      "source": [
        "def encrypt(plaintext, key):\n",
        "    # Inisialisasi hasil enkripsi dengan nilai nol\n",
        "    ciphertext = \"\"\n",
        "\n",
        "    # Melakukan operasi XOR antara setiap karakter plainteks dan kunci\n",
        "    for i in range(len(plaintext)):\n",
        "        # Mengonversi karakter ke dalam bentuk ASCII dan melakukan operasi XOR\n",
        "        result = ord(plaintext[i]) ^ ord(key[i % len(key)])  # Menggunakan modulo untuk mengulang kunci jika lebih pendek dari plainteks\n",
        "\n",
        "        # Mengonversi hasil XOR kembali ke dalam bentuk karakter dan menambahkannya ke ciphertext\n",
        "        ciphertext += chr(result)\n",
        "\n",
        "    return ciphertext\n",
        "\n",
        "def decrypt(ciphertext, key):\n",
        "    # Dekripsi pada OTP adalah sama dengan enkripsi\n",
        "    return encrypt(ciphertext, key)\n",
        "\n",
        "# Contoh penggunaan\n",
        "if __name__ == \"__main__\":\n",
        "    # Meminta input dari pengguna\n",
        "    plaintext = input(\"Masukkan Plainteks: \").upper()\n",
        "    key = input(\"Masukkan Kunci: \").upper()\n",
        "\n",
        "    # Enkripsi\n",
        "    encrypted_text = encrypt(plaintext, key)\n",
        "    print(\"Hasil Enkripsi:\", encrypted_text)\n",
        "\n",
        "    # Dekripsi\n",
        "    decrypted_text = decrypt(encrypted_text, key)\n",
        "    print(\"Hasil Dekripsi:\", decrypted_text)\n"
      ]
    }
  ]
}